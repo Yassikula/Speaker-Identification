{
 "cells": [
  {
   "cell_type": "code",
   "execution_count": 1,
   "id": "495b3752",
   "metadata": {},
   "outputs": [
    {
     "name": "stdout",
     "output_type": "stream",
     "text": [
      "-------------------------------------------------------------------------------------------\n",
      "Recording\n",
      "Finished recording\n",
      "-------------------------------------------------------------------------------------------\n"
     ]
    }
   ],
   "source": [
    "import record"
   ]
  },
  {
   "cell_type": "code",
   "execution_count": 4,
   "id": "2174b25b",
   "metadata": {},
   "outputs": [
    {
     "name": "stdout",
     "output_type": "stream",
     "text": [
      "0 Done\n",
      "1 Done\n",
      "2 Done\n",
      "3 Done\n",
      "4 Done\n",
      "5 Done\n",
      "6 Done\n",
      "7 Done\n",
      "8 Done\n",
      "9 Done\n",
      "10 Done\n",
      "11 Done\n",
      "12 Done\n",
      "13 Done\n",
      "14 Done\n",
      "15 Done\n",
      "16 Done\n",
      "17 Done\n",
      "18 Done\n",
      "19 Done\n",
      "20 Done\n",
      "21 Done\n",
      "22 Done\n",
      "23 Done\n",
      "24 Done\n",
      "25 Done\n",
      "26 Done\n",
      "27 Done\n",
      "28 Done\n",
      "29 Done\n",
      "30 Done\n",
      "31 Done\n",
      "32 Done\n",
      "33 Done\n",
      "34 Done\n",
      "35 Done\n",
      "36 Done\n",
      "37 Done\n",
      "38 Done\n",
      "39 Done\n",
      "40 Done\n",
      "41 Done\n",
      "42 Done\n",
      "43 Done\n",
      "44 Done\n",
      "45 Done\n",
      "46 Done\n",
      "47 Done\n",
      "48 Done\n",
      "49 Done\n",
      "50 Done\n",
      "51 Done\n",
      "52 Done\n",
      "53 Done\n",
      "54 Done\n",
      "55 Done\n",
      "56 Done\n",
      "57 Done\n",
      "58 Done\n",
      "59 Done\n",
      "All splited successfully\n"
     ]
    }
   ],
   "source": [
    "import audio_clip"
   ]
  },
  {
   "cell_type": "code",
   "execution_count": 1,
   "id": "0d8e3dfb",
   "metadata": {},
   "outputs": [
    {
     "name": "stdout",
     "output_type": "stream",
     "text": [
      "\u001b[31m[*]\u001b[0m You will be asked to speak for few seconds for the recognition of the speaker.\n",
      "\u001b[31m[*]\u001b[0m Get Ready!\n",
      "\u001b[31m[*]\u001b[0m Recording\n",
      "\u001b[31m[*]\u001b[0m Finished recording\n",
      "\u001b[31m[*]\u001b[0m Processing\n",
      "\u001b[31m[*]\u001b[0m Prediction\n",
      "\u001b[31m[*]\u001b[0m Predicted:\u001b[92m 2\u001b[0m\n",
      "yasasi\n"
     ]
    }
   ],
   "source": [
    "import predict"
   ]
  },
  {
   "cell_type": "code",
   "execution_count": null,
   "id": "eff5315a",
   "metadata": {},
   "outputs": [],
   "source": []
  }
 ],
 "metadata": {
  "kernelspec": {
   "display_name": "Python 3",
   "language": "python",
   "name": "python3"
  },
  "language_info": {
   "codemirror_mode": {
    "name": "ipython",
    "version": 3
   },
   "file_extension": ".py",
   "mimetype": "text/x-python",
   "name": "python",
   "nbconvert_exporter": "python",
   "pygments_lexer": "ipython3",
   "version": "3.8.8"
  }
 },
 "nbformat": 4,
 "nbformat_minor": 5
}
